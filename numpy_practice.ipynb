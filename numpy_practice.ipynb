{
 "cells": [
  {
   "cell_type": "code",
   "execution_count": 1,
   "metadata": {},
   "outputs": [],
   "source": [
    "import numpy as np"
   ]
  },
  {
   "cell_type": "code",
   "execution_count": 2,
   "metadata": {},
   "outputs": [
    {
     "data": {
      "text/plain": [
       "array([1, 2, 3])"
      ]
     },
     "execution_count": 2,
     "metadata": {},
     "output_type": "execute_result"
    }
   ],
   "source": [
    "#Creating ndarrays using numpy\n",
    "#They are faster than a python list\n",
    "# nd means an array of n dimensions\n",
    "\n",
    "a= np.array([1,2,3])\n",
    "a"
   ]
  },
  {
   "cell_type": "code",
   "execution_count": 3,
   "metadata": {},
   "outputs": [
    {
     "ename": "TypeError",
     "evalue": "array() takes from 1 to 2 positional arguments but 3 were given",
     "output_type": "error",
     "traceback": [
      "\u001b[1;31m---------------------------------------------------------------------------\u001b[0m",
      "\u001b[1;31mTypeError\u001b[0m                                 Traceback (most recent call last)",
      "Cell \u001b[1;32mIn[3], line 2\u001b[0m\n\u001b[0;32m      1\u001b[0m \u001b[39m#Also, you can't do this\u001b[39;00m\n\u001b[1;32m----> 2\u001b[0m b\u001b[39m=\u001b[39m np\u001b[39m.\u001b[39;49marray(\u001b[39m1\u001b[39;49m,\u001b[39m2\u001b[39;49m,\u001b[39m3\u001b[39;49m)\n\u001b[0;32m      4\u001b[0m \u001b[39m#TypeError: array() takes from 1 to 2 positional arguments but 3 were given\u001b[39;00m\n\u001b[0;32m      5\u001b[0m \u001b[39m#So yeah one of those positional argument things\u001b[39;00m\n",
      "\u001b[1;31mTypeError\u001b[0m: array() takes from 1 to 2 positional arguments but 3 were given"
     ]
    }
   ],
   "source": [
    "#Also, you can't do this\n",
    "b= np.array(1,2,3)\n",
    "\n",
    "#TypeError: array() takes from 1 to 2 positional arguments but 3 were given\n",
    "#So yeah one of those positional argument things"
   ]
  },
  {
   "cell_type": "code",
   "execution_count": null,
   "metadata": {},
   "outputs": [
    {
     "data": {
      "text/plain": [
       "array([[1, 2, 3],\n",
       "       [3, 5, 4]])"
      ]
     },
     "execution_count": 11,
     "metadata": {},
     "output_type": "execute_result"
    }
   ],
   "source": [
    "#We can also reshape our array!\n",
    "c=np.array([1,2,3,3,5,4]).reshape(2,3)\n",
    "c #Meaning 2 parts containing 3 elements each"
   ]
  },
  {
   "cell_type": "code",
   "execution_count": null,
   "metadata": {},
   "outputs": [
    {
     "data": {
      "text/plain": [
       "array([[[2, 3],\n",
       "        [4, 5]],\n",
       "\n",
       "       [[6, 7],\n",
       "        [3, 4]]])"
      ]
     },
     "execution_count": 16,
     "metadata": {},
     "output_type": "execute_result"
    }
   ],
   "source": [
    "d=np.array([2,3,4,5,6,7,3,4]).reshape(2,2,2)\n",
    "d #Meaning 2 big parts in which two small parts will be there in which two elements will reside in each part respectively.\n"
   ]
  },
  {
   "cell_type": "code",
   "execution_count": null,
   "metadata": {},
   "outputs": [
    {
     "name": "stdout",
     "output_type": "stream",
     "text": [
      "26\n",
      "3.7142857142857144\n",
      "1\n",
      "6\n"
     ]
    }
   ],
   "source": [
    "#performing various operations on numpy arrays\n",
    "\n",
    "e= np.array([1,2,3,4,5,5,6])\n",
    "print(e.sum()) #Sums up the entire array\n",
    "print(e.mean()) #Calculates the arithmatic mean of the array\n",
    "print(e.min()) #Shows the smallest value element in the array\n",
    "print(e.max()) #Shows the max element in the array"
   ]
  },
  {
   "cell_type": "markdown",
   "metadata": {},
   "source": [
    "### Special NumPy Arrays\n",
    "\n",
    "These are some useful arrays that you can quickly create in NumPy. Don't worry too much about learning them now but it'll be useful to have a cheatsheet of them nearby."
   ]
  },
  {
   "cell_type": "code",
   "execution_count": null,
   "metadata": {},
   "outputs": [
    {
     "data": {
      "text/plain": [
       "array([ 0,  1,  2,  3,  4,  5,  6,  7,  8,  9, 10, 11, 12, 13, 14, 15, 16,\n",
       "       17, 18, 19, 20, 21, 22, 23, 24])"
      ]
     },
     "execution_count": 24,
     "metadata": {},
     "output_type": "execute_result"
    }
   ],
   "source": [
    "np.zeros(5) #Will create an array which will contain 5 zeroes\n",
    "np.linspace(0, 6, 10) # Creates an array of values from 0 through 6 in 10 even spaces\n",
    "np.random.rand(3) # Three random values between 0 and 1\n",
    "np.random.randint(1, 1000) # A random integer between 1 and 1000\n",
    "np.arange(25) # Like the \"Range\" function we learned earlier, this is gives you a range of integers between 1 - 25"
   ]
  },
  {
   "cell_type": "code",
   "execution_count": null,
   "metadata": {},
   "outputs": [],
   "source": []
  }
 ],
 "metadata": {
  "kernelspec": {
   "display_name": "Python 3.8.5 ('base')",
   "language": "python",
   "name": "python3"
  },
  "language_info": {
   "codemirror_mode": {
    "name": "ipython",
    "version": 3
   },
   "file_extension": ".py",
   "mimetype": "text/x-python",
   "name": "python",
   "nbconvert_exporter": "python",
   "pygments_lexer": "ipython3",
   "version": "3.8.5 (default, Sep  3 2020, 21:29:08) [MSC v.1916 64 bit (AMD64)]"
  },
  "orig_nbformat": 4,
  "vscode": {
   "interpreter": {
    "hash": "0bad48f1a4e3dc9bff270531d1bbbdbe4b41055a6a79aee790137a62f9a38aa9"
   }
  }
 },
 "nbformat": 4,
 "nbformat_minor": 2
}
